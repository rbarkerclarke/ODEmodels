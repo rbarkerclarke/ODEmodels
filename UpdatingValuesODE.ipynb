{
 "cells": [
  {
   "cell_type": "code",
   "execution_count": 19,
   "id": "b4697cc4",
   "metadata": {},
   "outputs": [
    {
     "data": {
      "text/plain": [
       "<scipy.integrate._ode.ode at 0x7f8500273c40>"
      ]
     },
     "execution_count": 19,
     "metadata": {},
     "output_type": "execute_result"
    }
   ],
   "source": [
    "import numpy as np\n",
    "import math\n",
    "from scipy.integrate import ode\n",
    "import matplotlib.pyplot as plt\n",
    "\n",
    "def f(t, y):\n",
    "    return -np.sqrt(t)*y \n",
    "\n",
    "d = 0.9\n",
    "t = np.linspace(0, 10, 20)\n",
    "y_0 = [2, 3]\n",
    "y = np.zeros((len(t), len(y_0)))\n",
    "y[0, :] = y_0\n",
    "r = ode(f)\n",
    "r.set_initial_value(y[0], t[0])\n",
    "\n"
   ]
  },
  {
   "cell_type": "markdown",
   "id": "72c14ca6",
   "metadata": {},
   "source": [
    "Integrate function "
   ]
  },
  {
   "cell_type": "code",
   "execution_count": 20,
   "id": "5d0b06b9",
   "metadata": {},
   "outputs": [],
   "source": [
    "for k in range(1, len(t)):\n",
    "    y[k, :] = r.integrate(t[k])\n",
    "    r.set_initial_value(d*(y[k, :]), t[k])"
   ]
  },
  {
   "cell_type": "code",
   "execution_count": 34,
   "id": "97e7565b",
   "metadata": {
    "scrolled": true
   },
   "outputs": [
    {
     "data": {
      "text/plain": [
       "<matplotlib.collections.PathCollection at 0x7f84b0b5af10>"
      ]
     },
     "execution_count": 34,
     "metadata": {},
     "output_type": "execute_result"
    },
    {
     "data": {
      "image/png": "[encoded data removed]",
      "text/plain": [
       "<Figure size 640x480 with 1 Axes>"
      ]
     },
     "metadata": {},
     "output_type": "display_data"
    }
   ],
   "source": [
    "plt.scatter(x=t, y=y[:,0])\n",
    "plt.scatter(x=t, y=y[:,1])"
   ]
  },
  {
   "cell_type": "code",
   "execution_count": 27,
   "id": "4a6776e7",
   "metadata": {},
   "outputs": [
    {
     "data": {
      "text/plain": [
       "array([[2.00000000e+00, 3.00000000e+00],\n",
       "       [1.55052494e+00, 2.32578740e+00],\n",
       "       [8.76167000e-01, 1.31425050e+00],\n",
       "       [4.31593876e-01, 6.47390813e-01],\n",
       "       [1.90261169e-01, 2.85391753e-01],\n",
       "       [7.62087270e-02, 1.14313090e-01],\n",
       "       [2.80210155e-02, 4.20315232e-02],\n",
       "       [9.52916023e-03, 1.42937403e-02],\n",
       "       [3.01471629e-03, 4.52207443e-03],\n",
       "       [8.91447833e-04, 1.33717175e-03],\n",
       "       [2.47335424e-04, 3.71003135e-04],\n",
       "       [6.46012418e-05, 9.69018627e-05],\n",
       "       [1.59288066e-05, 2.38932099e-05],\n",
       "       [3.71689482e-06, 5.57534223e-06],\n",
       "       [8.22570146e-07, 1.23385522e-06],\n",
       "       [1.72981476e-07, 2.59472214e-07],\n",
       "       [3.46268932e-08, 5.19403398e-08],\n",
       "       [6.60807514e-09, 9.91211271e-09],\n",
       "       [1.20362448e-09, 1.80543672e-09],\n",
       "       [2.10001899e-10, 3.15002849e-10]])"
      ]
     },
     "execution_count": 27,
     "metadata": {},
     "output_type": "execute_result"
    }
   ],
   "source": [
    "y"
   ]
  }
 ],
 "metadata": {
  "kernelspec": {
   "display_name": "Python 3 (ipykernel)",
   "language": "python",
   "name": "python3"
  },
  "language_info": {
   "codemirror_mode": {
    "name": "ipython",
    "version": 3
   },
   "file_extension": ".py",
   "mimetype": "text/x-python",
   "name": "python",
   "nbconvert_exporter": "python",
   "pygments_lexer": "ipython3",
   "version": "3.9.13"
  }
 },
 "nbformat": 4,
 "nbformat_minor": 5
}
